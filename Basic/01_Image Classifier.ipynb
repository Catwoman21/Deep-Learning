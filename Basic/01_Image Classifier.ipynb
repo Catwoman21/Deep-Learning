{
 "cells": [
  {
   "cell_type": "markdown",
   "metadata": {},
   "source": [
    "# Fruit Detection (Neural Network)"
   ]
  },
  {
   "cell_type": "code",
   "execution_count": 34,
   "metadata": {},
   "outputs": [],
   "source": [
    "#importing all te req lib\n",
    "import tensorflow as tf\n",
    "from keras.preprocessing.image import ImageDataGenerator\n",
    "from keras.models import Sequential\n",
    "from keras.layers import Conv2D, MaxPooling2D\n",
    "from keras.layers import Activation, Dropout, Flatten, Dense\n",
    "from keras import backend as K\n",
    "from keras.preprocessing import image\n",
    "import numpy as np"
   ]
  },
  {
   "cell_type": "code",
   "execution_count": 35,
   "metadata": {},
   "outputs": [],
   "source": [
    "# dimensions of our images.\n",
    "img_width, img_height = 150, 150\n",
    "\n",
    "#defining the data directories\n",
    "train_data_dir= 'data/train'\n",
    "validation_data_dir= 'data/validation'\n",
    "n_training_sample= 400\n",
    "n_validation_sample= 100\n",
    "epochs=40\n",
    "batch_size=10\n"
   ]
  },
  {
   "cell_type": "code",
   "execution_count": 36,
   "metadata": {},
   "outputs": [],
   "source": [
    "if K.image_data_format() == 'channels_first':\n",
    "    input_shape = (3, img_width, img_height)\n",
    "else:\n",
    "    input_shape = (img_width, img_height, 3)"
   ]
  },
  {
   "cell_type": "code",
   "execution_count": 37,
   "metadata": {},
   "outputs": [],
   "source": [
    "#defining the model\n",
    "model = tf.keras.models.Sequential([tf.keras.layers.Flatten(), \n",
    "                                    tf.keras.layers.Dense(128, activation=tf.nn.relu), \n",
    "                                    tf.keras.layers.Dense(64, activation=tf.nn.relu),\n",
    "                                    tf.keras.layers.Dense(2, activation=tf.nn.sigmoid)])"
   ]
  },
  {
   "cell_type": "code",
   "execution_count": 38,
   "metadata": {},
   "outputs": [],
   "source": [
    "#defining the optimizer and metrics\n",
    "model.compile(optimizer = tf.optimizers.Adam(),\n",
    "              loss = 'sparse_categorical_crossentropy',\n",
    "              metrics=['accuracy'])\n"
   ]
  },
  {
   "cell_type": "code",
   "execution_count": 39,
   "metadata": {},
   "outputs": [
    {
     "name": "stdout",
     "output_type": "stream",
     "text": [
      "Found 984 images belonging to 2 classes.\n",
      "Found 328 images belonging to 2 classes.\n",
      "WARNING:tensorflow:sample_weight modes were coerced from\n",
      "  ...\n",
      "    to  \n",
      "  ['...']\n",
      "Train for 40 steps, validate for 10 steps\n",
      "Epoch 1/40\n",
      "40/40 [==============================] - 7s 164ms/step - loss: 0.7132 - accuracy: 0.6777 - val_loss: 0.6931 - val_accuracy: 0.6600\n",
      "Epoch 2/40\n",
      "40/40 [==============================] - 6s 152ms/step - loss: 0.6931 - accuracy: 0.8250 - val_loss: 0.6931 - val_accuracy: 0.6900\n",
      "Epoch 3/40\n",
      "40/40 [==============================] - 6s 160ms/step - loss: 0.6931 - accuracy: 0.8050 - val_loss: 0.6931 - val_accuracy: 0.6900\n",
      "Epoch 4/40\n",
      "40/40 [==============================] - 7s 166ms/step - loss: 0.6931 - accuracy: 0.8249 - val_loss: 0.6931 - val_accuracy: 0.6900\n",
      "Epoch 5/40\n",
      "40/40 [==============================] - 6s 147ms/step - loss: 0.6931 - accuracy: 0.7868 - val_loss: 0.6931 - val_accuracy: 0.6900\n",
      "Epoch 6/40\n",
      "40/40 [==============================] - 7s 174ms/step - loss: 0.6931 - accuracy: 0.8173 - val_loss: 0.6931 - val_accuracy: 0.6900\n",
      "Epoch 7/40\n",
      "40/40 [==============================] - 6s 146ms/step - loss: 0.6931 - accuracy: 0.8629 - val_loss: 0.6931 - val_accuracy: 0.6900\n",
      "Epoch 8/40\n",
      "40/40 [==============================] - 6s 162ms/step - loss: 0.6931 - accuracy: 0.8650 - val_loss: 0.6931 - val_accuracy: 0.6900\n",
      "Epoch 9/40\n",
      "40/40 [==============================] - 7s 163ms/step - loss: 0.6931 - accuracy: 0.8300 - val_loss: 0.6931 - val_accuracy: 0.6900\n",
      "Epoch 10/40\n",
      "40/40 [==============================] - 7s 166ms/step - loss: 0.6931 - accuracy: 0.7975 - val_loss: 0.6931 - val_accuracy: 0.6900\n",
      "Epoch 11/40\n",
      "40/40 [==============================] - 6s 151ms/step - loss: 0.6931 - accuracy: 0.8425 - val_loss: 0.6931 - val_accuracy: 0.6900\n",
      "Epoch 12/40\n",
      "40/40 [==============================] - 6s 151ms/step - loss: 0.6931 - accuracy: 0.8299 - val_loss: 0.6931 - val_accuracy: 0.6900\n",
      "Epoch 13/40\n",
      "40/40 [==============================] - 6s 142ms/step - loss: 0.6931 - accuracy: 0.8503 - val_loss: 0.6931 - val_accuracy: 0.6900\n",
      "Epoch 14/40\n",
      "40/40 [==============================] - 6s 150ms/step - loss: 0.6931 - accuracy: 0.8299 - val_loss: 0.6931 - val_accuracy: 0.6900\n",
      "Epoch 15/40\n",
      "40/40 [==============================] - 6s 156ms/step - loss: 0.6931 - accuracy: 0.8375 - val_loss: 0.6931 - val_accuracy: 0.6900\n",
      "Epoch 16/40\n",
      "40/40 [==============================] - 6s 155ms/step - loss: 0.6931 - accuracy: 0.8275 - val_loss: 0.6931 - val_accuracy: 0.6900\n",
      "Epoch 17/40\n",
      "40/40 [==============================] - 6s 154ms/step - loss: 0.6931 - accuracy: 0.8375 - val_loss: 0.6931 - val_accuracy: 0.6900\n",
      "Epoch 18/40\n",
      "40/40 [==============================] - 6s 146ms/step - loss: 0.6931 - accuracy: 0.8250 - val_loss: 0.6931 - val_accuracy: 0.6900\n",
      "Epoch 19/40\n",
      "40/40 [==============================] - 6s 154ms/step - loss: 0.6931 - accuracy: 0.8350 - val_loss: 0.6931 - val_accuracy: 0.6900\n",
      "Epoch 20/40\n",
      "40/40 [==============================] - 7s 171ms/step - loss: 0.6931 - accuracy: 0.8425 - val_loss: 0.6931 - val_accuracy: 0.6900\n",
      "Epoch 21/40\n",
      "40/40 [==============================] - 6s 151ms/step - loss: 0.6931 - accuracy: 0.8200 - val_loss: 0.6931 - val_accuracy: 0.6900\n",
      "Epoch 22/40\n",
      "40/40 [==============================] - 6s 150ms/step - loss: 0.6931 - accuracy: 0.8376 - val_loss: 0.6931 - val_accuracy: 0.6900\n",
      "Epoch 23/40\n",
      "40/40 [==============================] - 6s 147ms/step - loss: 0.6931 - accuracy: 0.8275 - val_loss: 0.6931 - val_accuracy: 0.6900\n",
      "Epoch 24/40\n",
      "40/40 [==============================] - 6s 150ms/step - loss: 0.6931 - accuracy: 0.8275 - val_loss: 0.6931 - val_accuracy: 0.6900\n",
      "Epoch 25/40\n",
      "40/40 [==============================] - 6s 148ms/step - loss: 0.6931 - accuracy: 0.7995 - val_loss: 0.6931 - val_accuracy: 0.6900\n",
      "Epoch 26/40\n",
      "40/40 [==============================] - 6s 148ms/step - loss: 0.6931 - accuracy: 0.8300 - val_loss: 0.6931 - val_accuracy: 0.6900\n",
      "Epoch 27/40\n",
      "40/40 [==============================] - 6s 143ms/step - loss: 0.6931 - accuracy: 0.8550 - val_loss: 0.6931 - val_accuracy: 0.6900\n",
      "Epoch 28/40\n",
      "40/40 [==============================] - 6s 155ms/step - loss: 0.6931 - accuracy: 0.8325 - val_loss: 0.6931 - val_accuracy: 0.6900\n",
      "Epoch 29/40\n",
      "40/40 [==============================] - 6s 157ms/step - loss: 0.6931 - accuracy: 0.8680 - val_loss: 0.6931 - val_accuracy: 0.6900\n",
      "Epoch 30/40\n",
      "40/40 [==============================] - 6s 148ms/step - loss: 0.6931 - accuracy: 0.8198 - val_loss: 0.6931 - val_accuracy: 0.6900\n",
      "Epoch 31/40\n",
      "40/40 [==============================] - 6s 156ms/step - loss: 0.6931 - accuracy: 0.8450 - val_loss: 0.6931 - val_accuracy: 0.6900\n",
      "Epoch 32/40\n",
      "40/40 [==============================] - 6s 149ms/step - loss: 0.6931 - accuracy: 0.8300 - val_loss: 0.6931 - val_accuracy: 0.6900\n",
      "Epoch 33/40\n",
      "40/40 [==============================] - 6s 153ms/step - loss: 0.6931 - accuracy: 0.8325 - val_loss: 0.6931 - val_accuracy: 0.6900\n",
      "Epoch 34/40\n",
      "40/40 [==============================] - 6s 151ms/step - loss: 0.6931 - accuracy: 0.8450 - val_loss: 0.6931 - val_accuracy: 0.6900\n",
      "Epoch 35/40\n",
      "40/40 [==============================] - 6s 152ms/step - loss: 0.6931 - accuracy: 0.8223 - val_loss: 0.6931 - val_accuracy: 0.6900\n",
      "Epoch 36/40\n",
      "40/40 [==============================] - 6s 150ms/step - loss: 0.6931 - accuracy: 0.8075 - val_loss: 0.6931 - val_accuracy: 0.6900\n",
      "Epoch 37/40\n",
      "40/40 [==============================] - 6s 146ms/step - loss: 0.6931 - accuracy: 0.8175 - val_loss: 0.6931 - val_accuracy: 0.6900\n",
      "Epoch 38/40\n",
      "40/40 [==============================] - 6s 153ms/step - loss: 0.6931 - accuracy: 0.8275 - val_loss: 0.6931 - val_accuracy: 0.6900\n",
      "Epoch 39/40\n",
      "40/40 [==============================] - 6s 145ms/step - loss: 0.6931 - accuracy: 0.8025 - val_loss: 0.6931 - val_accuracy: 0.6900\n",
      "Epoch 40/40\n",
      "40/40 [==============================] - 6s 161ms/step - loss: 0.6931 - accuracy: 0.8075 - val_loss: 0.6931 - val_accuracy: 0.6900\n"
     ]
    },
    {
     "data": {
      "text/plain": [
       "<tensorflow.python.keras.callbacks.History at 0x16677b68710>"
      ]
     },
     "execution_count": 39,
     "metadata": {},
     "output_type": "execute_result"
    }
   ],
   "source": [
    "# this is the augmentation configuration we will use for training\n",
    "train_datagen = ImageDataGenerator(\n",
    "    rescale=1. / 255,\n",
    "    shear_range=0.2,\n",
    "    zoom_range=0.2,\n",
    "    horizontal_flip=True)\n",
    "\n",
    "# this is the augmentation configuration we will use for testing:\n",
    "# only rescaling\n",
    "test_datagen = ImageDataGenerator(rescale=1. / 255)\n",
    "\n",
    "train_generator = train_datagen.flow_from_directory(\n",
    "    train_data_dir,\n",
    "    target_size=(img_width, img_height),\n",
    "    batch_size=batch_size,\n",
    "    class_mode='binary')\n",
    "\n",
    "validation_generator = test_datagen.flow_from_directory(\n",
    "    validation_data_dir,\n",
    "    target_size=(img_width, img_height),\n",
    "    batch_size=batch_size,\n",
    "    class_mode='binary')\n",
    "\n",
    "model.fit_generator(\n",
    "    train_generator,\n",
    "    steps_per_epoch=n_training_sample // batch_size,\n",
    "    epochs=epochs,\n",
    "    validation_data=validation_generator,\n",
    "    validation_steps=n_validation_sample // batch_size)"
   ]
  },
  {
   "cell_type": "code",
   "execution_count": 41,
   "metadata": {},
   "outputs": [
    {
     "name": "stdout",
     "output_type": "stream",
     "text": [
      "[[0. 0.]]\n"
     ]
    }
   ],
   "source": [
    "#testing the model\n",
    "pred= image.load_img('data/test/pm2.jpg', target_size=(150,150))\n",
    "pred=image.img_to_array(pred)\n",
    "pred= np.expand_dims(pred, axis=0)\n",
    "result= model.predict(pred)\n",
    "print(result)"
   ]
  },
  {
   "cell_type": "code",
   "execution_count": 42,
   "metadata": {},
   "outputs": [
    {
     "name": "stdout",
     "output_type": "stream",
     "text": [
      "The fruit in the image is Pomegranate\n"
     ]
    }
   ],
   "source": [
    "if result[0][0]==1:\n",
    "    answer='Apple'\n",
    "else:\n",
    "    answer='Pomegranate'\n",
    "print(\"The fruit in the image is\",answer)"
   ]
  },
  {
   "cell_type": "code",
   "execution_count": null,
   "metadata": {},
   "outputs": [],
   "source": []
  }
 ],
 "metadata": {
  "kernelspec": {
   "display_name": "Python 3",
   "language": "python",
   "name": "python3"
  },
  "language_info": {
   "codemirror_mode": {
    "name": "ipython",
    "version": 3
   },
   "file_extension": ".py",
   "mimetype": "text/x-python",
   "name": "python",
   "nbconvert_exporter": "python",
   "pygments_lexer": "ipython3",
   "version": "3.6.8"
  }
 },
 "nbformat": 4,
 "nbformat_minor": 2
}
