{
  "nbformat": 4,
  "nbformat_minor": 0,
  "metadata": {
    "colab": {
      "name": "04_Basic NLP.ipynb",
      "provenance": [],
      "collapsed_sections": [],
      "authorship_tag": "ABX9TyPbwMLSZDxNOkaywQ3WeRwJ",
      "include_colab_link": true
    },
    "kernelspec": {
      "name": "python3",
      "display_name": "Python 3"
    }
  },
  "cells": [
    {
      "cell_type": "markdown",
      "metadata": {
        "id": "view-in-github",
        "colab_type": "text"
      },
      "source": [
        "<a href=\"https://colab.research.google.com/github/vedantbahel/Deep-Learning/blob/master/NLP/04_Basic_NLP.ipynb\" target=\"_parent\"><img src=\"https://colab.research.google.com/assets/colab-badge.svg\" alt=\"Open In Colab\"/></a>"
      ]
    },
    {
      "cell_type": "markdown",
      "metadata": {
        "id": "pGXsKLwghKov",
        "colab_type": "text"
      },
      "source": [
        "# Basic NLP Tools (Tokenizer- Sequence- Padding)"
      ]
    },
    {
      "cell_type": "code",
      "metadata": {
        "id": "9sy8KVWzI88u",
        "colab_type": "code",
        "colab": {}
      },
      "source": [
        "#importing lib\n",
        "import tensorflow as tf\n",
        "from tensorflow import keras\n",
        "\n",
        "from tensorflow.keras.preprocessing.text import Tokenizer \n",
        "from tensorflow.keras.preprocessing.sequence import pad_sequences"
      ],
      "execution_count": 0,
      "outputs": []
    },
    {
      "cell_type": "code",
      "metadata": {
        "id": "Zbt5mbMMeXet",
        "colab_type": "code",
        "colab": {}
      },
      "source": [
        "sentences= ['Computer Science is fun', 'Information Science is fun', 'Computer and Information Sciences is nearely same']"
      ],
      "execution_count": 0,
      "outputs": []
    },
    {
      "cell_type": "code",
      "metadata": {
        "id": "GckotX4bfMxA",
        "colab_type": "code",
        "colab": {}
      },
      "source": [
        "tokenizer= Tokenizer(num_words=15, oov_token= 'OOV')\n",
        "tokenizer.fit_on_texts(sentences)"
      ],
      "execution_count": 0,
      "outputs": []
    },
    {
      "cell_type": "code",
      "metadata": {
        "id": "johknA5wfzsu",
        "colab_type": "code",
        "colab": {}
      },
      "source": [
        "sequence= tokenizer.texts_to_sequences(sentences)\n",
        "padded= pad_sequences(sequence)"
      ],
      "execution_count": 0,
      "outputs": []
    },
    {
      "cell_type": "code",
      "metadata": {
        "id": "_lSVDm-5gU0B",
        "colab_type": "code",
        "colab": {
          "base_uri": "https://localhost:8080/",
          "height": 121
        },
        "outputId": "0be19924-564e-4b16-e040-4fe3168a2ece"
      },
      "source": [
        "print(\"Index :\", tokenizer.word_index)\n",
        "print(\"Sequence :\", sequence)\n",
        "print(\"Padded Sequence :\")\n",
        "print(padded)"
      ],
      "execution_count": 13,
      "outputs": [
        {
          "output_type": "stream",
          "text": [
            "Index : {'OOV': 1, 'is': 2, 'computer': 3, 'science': 4, 'fun': 5, 'information': 6, 'and': 7, 'sciences': 8, 'nearely': 9, 'same': 10}\n",
            "Sequence : [[3, 4, 2, 5], [6, 4, 2, 5], [3, 7, 6, 8, 2, 9, 10]]\n",
            "Padded Sequence :\n",
            "[[ 0  0  0  3  4  2  5]\n",
            " [ 0  0  0  6  4  2  5]\n",
            " [ 3  7  6  8  2  9 10]]\n"
          ],
          "name": "stdout"
        }
      ]
    }
  ]
}