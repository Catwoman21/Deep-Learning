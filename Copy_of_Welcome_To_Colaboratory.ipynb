{
  "nbformat": 4,
  "nbformat_minor": 0,
  "metadata": {
    "colab": {
      "name": "Copy of Welcome To Colaboratory",
      "provenance": [],
      "collapsed_sections": [],
      "include_colab_link": true
    },
    "kernelspec": {
      "display_name": "Python 3",
      "name": "python3"
    }
  },
  "cells": [
    {
      "cell_type": "markdown",
      "metadata": {
        "id": "view-in-github",
        "colab_type": "text"
      },
      "source": [
        "<a href=\"https://colab.research.google.com/github/Catwoman21/Deep-Learning/blob/master/Copy_of_Welcome_To_Colaboratory.ipynb\" target=\"_parent\"><img src=\"https://colab.research.google.com/assets/colab-badge.svg\" alt=\"Open In Colab\"/></a>"
      ]
    },
    {
      "cell_type": "code",
      "metadata": {
        "id": "uVggrhWZ7Qcj",
        "colab_type": "code",
        "colab": {}
      },
      "source": [
        "#importing all te req lib\n",
        "import tensorflow as tf\n",
        "from keras.preprocessing.image import ImageDataGenerator\n",
        "from keras.models import Sequential\n",
        "from keras.layers import Conv2D, MaxPooling2D\n",
        "from keras.layers import Activation, Dropout, Flatten, Dense\n",
        "from keras import backend as K\n",
        "from keras.preprocessing import image\n",
        "import numpy as np"
      ],
      "execution_count": 30,
      "outputs": []
    },
    {
      "cell_type": "code",
      "metadata": {
        "id": "7a_W5Kvb7QqH",
        "colab_type": "code",
        "colab": {}
      },
      "source": [
        "# dimensions of our images.\n",
        "img_width, img_height = 150, 150\n",
        "\n",
        "#defining the data directories\n",
        "train_data_dir= '/content/drive/My Drive/data/data/train'\n",
        "validation_data_dir= '/content/drive/My Drive/data/data/validation'\n",
        "n_training_sample= 400\n",
        "n_validation_sample= 100\n",
        "epochs=40\n",
        "batch_size=10"
      ],
      "execution_count": 31,
      "outputs": []
    },
    {
      "cell_type": "code",
      "metadata": {
        "id": "se0N1siL7Q0W",
        "colab_type": "code",
        "colab": {}
      },
      "source": [
        "if K.image_data_format() == 'channels_first':\n",
        "    input_shape = (3, img_width, img_height)\n",
        "else:\n",
        "    input_shape = (img_width, img_height, 3)"
      ],
      "execution_count": 32,
      "outputs": []
    },
    {
      "cell_type": "code",
      "metadata": {
        "id": "xm_l5IXP7Q_e",
        "colab_type": "code",
        "colab": {}
      },
      "source": [
        "#defining the model\n",
        "model = tf.keras.models.Sequential([tf.keras.layers.Conv2D(64, (3,3), activation='relu', input_shape=input_shape),\n",
        "                                    tf.keras.layers.MaxPooling2D(2,2),\n",
        "                                    tf.keras.layers.Flatten(), \n",
        "                                    tf.keras.layers.Dense(128, activation=tf.nn.relu), \n",
        "                                    tf.keras.layers.Dense(64, activation=tf.nn.relu),\n",
        "                                    tf.keras.layers.Dense(2, activation=tf.nn.sigmoid)])"
      ],
      "execution_count": 33,
      "outputs": []
    },
    {
      "cell_type": "code",
      "metadata": {
        "id": "nZbfOzrL7uom",
        "colab_type": "code",
        "colab": {}
      },
      "source": [
        "#defining the optimizer and metrics\n",
        "model.compile(optimizer = tf.optimizers.Adam(),\n",
        "              loss = 'sparse_categorical_crossentropy',\n",
        "              metrics=['accuracy'])"
      ],
      "execution_count": 34,
      "outputs": []
    },
    {
      "cell_type": "code",
      "metadata": {
        "id": "xLfi6K_tvMan",
        "colab_type": "code",
        "colab": {
          "base_uri": "https://localhost:8080/",
          "height": 353
        },
        "outputId": "76ac70f5-042e-44c3-f9e6-4f5cba824b85"
      },
      "source": [
        "model.summary()"
      ],
      "execution_count": 35,
      "outputs": [
        {
          "output_type": "stream",
          "text": [
            "Model: \"sequential_3\"\n",
            "_________________________________________________________________\n",
            "Layer (type)                 Output Shape              Param #   \n",
            "=================================================================\n",
            "conv2d_3 (Conv2D)            (None, 148, 148, 64)      1792      \n",
            "_________________________________________________________________\n",
            "max_pooling2d_3 (MaxPooling2 (None, 74, 74, 64)        0         \n",
            "_________________________________________________________________\n",
            "flatten_3 (Flatten)          (None, 350464)            0         \n",
            "_________________________________________________________________\n",
            "dense_9 (Dense)              (None, 128)               44859520  \n",
            "_________________________________________________________________\n",
            "dense_10 (Dense)             (None, 64)                8256      \n",
            "_________________________________________________________________\n",
            "dense_11 (Dense)             (None, 2)                 130       \n",
            "=================================================================\n",
            "Total params: 44,869,698\n",
            "Trainable params: 44,869,698\n",
            "Non-trainable params: 0\n",
            "_________________________________________________________________\n"
          ],
          "name": "stdout"
        }
      ]
    },
    {
      "cell_type": "code",
      "metadata": {
        "id": "4D9hW4FR7x7R",
        "colab_type": "code",
        "colab": {
          "base_uri": "https://localhost:8080/",
          "height": 50
        },
        "outputId": "eacd256a-c75d-44b1-ccaa-add1f78357b5"
      },
      "source": [
        "# this is the augmentation configuration we will use for training\n",
        "train_datagen = ImageDataGenerator(\n",
        "    rescale=1. / 255,\n",
        "    shear_range=0.2,\n",
        "    zoom_range=0.2,\n",
        "    horizontal_flip=True)\n",
        "\n",
        "# this is the augmentation configuration we will use for testing:\n",
        "# only rescaling\n",
        "test_datagen = ImageDataGenerator(rescale=1. / 255)\n",
        "\n",
        "train_generator = train_datagen.flow_from_directory(\n",
        "    train_data_dir,\n",
        "    target_size=(img_width, img_height),\n",
        "    batch_size=batch_size,\n",
        "    class_mode='binary')\n",
        "\n",
        "validation_generator = test_datagen.flow_from_directory(\n",
        "    validation_data_dir,\n",
        "    target_size=(img_width, img_height),\n",
        "    batch_size=batch_size,\n",
        "    class_mode='binary')\n",
        "\n"
      ],
      "execution_count": 37,
      "outputs": [
        {
          "output_type": "stream",
          "text": [
            "Found 984 images belonging to 2 classes.\n",
            "Found 328 images belonging to 2 classes.\n"
          ],
          "name": "stdout"
        }
      ]
    },
    {
      "cell_type": "code",
      "metadata": {
        "id": "qPjrPrFQu89_",
        "colab_type": "code",
        "colab": {
          "base_uri": "https://localhost:8080/",
          "height": 1000
        },
        "outputId": "2416f1d1-6009-49eb-ebbf-ec86f9e1fa90"
      },
      "source": [
        "model.fit_generator(\n",
        "    train_generator,\n",
        "    steps_per_epoch=n_training_sample // batch_size,\n",
        "    epochs=epochs,\n",
        "    validation_data=validation_generator,\n",
        "    validation_steps=n_validation_sample // batch_size)"
      ],
      "execution_count": 38,
      "outputs": [
        {
          "output_type": "stream",
          "text": [
            "Epoch 1/40\n",
            "40/40 [==============================] - 20s 512ms/step - loss: 8.3630 - accuracy: 0.4721 - val_loss: 7.2531 - val_accuracy: 0.5500\n",
            "Epoch 2/40\n",
            "40/40 [==============================] - 20s 506ms/step - loss: 8.2636 - accuracy: 0.4873 - val_loss: 8.5426 - val_accuracy: 0.4700\n",
            "Epoch 3/40\n",
            "40/40 [==============================] - 20s 501ms/step - loss: 7.8954 - accuracy: 0.5102 - val_loss: 8.8650 - val_accuracy: 0.4500\n",
            "Epoch 4/40\n",
            "40/40 [==============================] - 20s 501ms/step - loss: 7.8576 - accuracy: 0.5125 - val_loss: 8.3814 - val_accuracy: 0.4800\n",
            "Epoch 5/40\n",
            "40/40 [==============================] - 20s 501ms/step - loss: 8.1799 - accuracy: 0.4925 - val_loss: 8.0590 - val_accuracy: 0.5000\n",
            "Epoch 6/40\n",
            "40/40 [==============================] - 20s 499ms/step - loss: 8.5023 - accuracy: 0.4725 - val_loss: 7.7367 - val_accuracy: 0.5200\n",
            "Epoch 7/40\n",
            "40/40 [==============================] - 20s 501ms/step - loss: 8.2605 - accuracy: 0.4875 - val_loss: 9.1873 - val_accuracy: 0.4300\n",
            "Epoch 8/40\n",
            "40/40 [==============================] - 20s 502ms/step - loss: 8.0188 - accuracy: 0.5025 - val_loss: 7.7367 - val_accuracy: 0.5200\n",
            "Epoch 9/40\n",
            "40/40 [==============================] - 20s 495ms/step - loss: 7.4143 - accuracy: 0.5400 - val_loss: 8.2202 - val_accuracy: 0.4900\n",
            "Epoch 10/40\n",
            "40/40 [==============================] - 20s 501ms/step - loss: 7.9363 - accuracy: 0.5076 - val_loss: 7.5755 - val_accuracy: 0.5300\n",
            "Epoch 11/40\n",
            "40/40 [==============================] - 20s 497ms/step - loss: 8.1799 - accuracy: 0.4925 - val_loss: 8.5426 - val_accuracy: 0.4700\n",
            "Epoch 12/40\n",
            "40/40 [==============================] - 20s 501ms/step - loss: 7.5755 - accuracy: 0.5300 - val_loss: 8.5426 - val_accuracy: 0.4700\n",
            "Epoch 13/40\n",
            "40/40 [==============================] - 20s 507ms/step - loss: 7.7318 - accuracy: 0.5203 - val_loss: 7.8979 - val_accuracy: 0.5100\n",
            "Epoch 14/40\n",
            "40/40 [==============================] - 20s 506ms/step - loss: 7.3636 - accuracy: 0.5431 - val_loss: 9.0261 - val_accuracy: 0.4400\n",
            "Epoch 15/40\n",
            "40/40 [==============================] - 20s 505ms/step - loss: 8.2227 - accuracy: 0.4898 - val_loss: 7.2531 - val_accuracy: 0.5500\n",
            "Epoch 16/40\n",
            "40/40 [==============================] - 20s 501ms/step - loss: 7.6561 - accuracy: 0.5250 - val_loss: 7.8979 - val_accuracy: 0.5100\n",
            "Epoch 17/40\n",
            "40/40 [==============================] - 20s 505ms/step - loss: 7.3227 - accuracy: 0.5457 - val_loss: 8.2202 - val_accuracy: 0.4900\n",
            "Epoch 18/40\n",
            "40/40 [==============================] - 20s 507ms/step - loss: 8.1000 - accuracy: 0.4975 - val_loss: 8.3814 - val_accuracy: 0.4800\n",
            "Epoch 19/40\n",
            "40/40 [==============================] - 20s 507ms/step - loss: 8.1818 - accuracy: 0.4924 - val_loss: 7.8979 - val_accuracy: 0.5100\n",
            "Epoch 20/40\n",
            "40/40 [==============================] - 20s 506ms/step - loss: 8.0181 - accuracy: 0.5025 - val_loss: 9.1873 - val_accuracy: 0.4300\n",
            "Epoch 21/40\n",
            "40/40 [==============================] - 20s 506ms/step - loss: 8.1818 - accuracy: 0.4924 - val_loss: 7.2531 - val_accuracy: 0.5500\n",
            "Epoch 22/40\n",
            "40/40 [==============================] - 20s 499ms/step - loss: 7.8173 - accuracy: 0.5150 - val_loss: 8.0590 - val_accuracy: 0.5000\n",
            "Epoch 23/40\n",
            "40/40 [==============================] - 20s 500ms/step - loss: 8.4217 - accuracy: 0.4775 - val_loss: 8.7038 - val_accuracy: 0.4600\n",
            "Epoch 24/40\n",
            "40/40 [==============================] - 20s 506ms/step - loss: 8.3045 - accuracy: 0.4848 - val_loss: 7.7367 - val_accuracy: 0.5200\n",
            "Epoch 25/40\n",
            "40/40 [==============================] - 20s 499ms/step - loss: 7.9785 - accuracy: 0.5050 - val_loss: 8.0590 - val_accuracy: 0.5000\n",
            "Epoch 26/40\n",
            "40/40 [==============================] - 20s 499ms/step - loss: 8.2227 - accuracy: 0.4898 - val_loss: 8.3814 - val_accuracy: 0.4800\n",
            "Epoch 27/40\n",
            "40/40 [==============================] - 20s 505ms/step - loss: 7.8954 - accuracy: 0.5102 - val_loss: 7.0920 - val_accuracy: 0.5600\n",
            "Epoch 28/40\n",
            "40/40 [==============================] - 20s 498ms/step - loss: 7.9382 - accuracy: 0.5075 - val_loss: 7.4143 - val_accuracy: 0.5400\n",
            "Epoch 29/40\n",
            "40/40 [==============================] - 20s 503ms/step - loss: 7.7318 - accuracy: 0.5203 - val_loss: 8.3814 - val_accuracy: 0.4800\n",
            "Epoch 30/40\n",
            "40/40 [==============================] - 20s 499ms/step - loss: 8.2202 - accuracy: 0.4900 - val_loss: 8.0590 - val_accuracy: 0.5000\n",
            "Epoch 31/40\n",
            "40/40 [==============================] - 20s 502ms/step - loss: 8.6635 - accuracy: 0.4625 - val_loss: 7.5755 - val_accuracy: 0.5300\n",
            "Epoch 32/40\n",
            "40/40 [==============================] - 20s 499ms/step - loss: 8.0590 - accuracy: 0.5000 - val_loss: 8.2202 - val_accuracy: 0.4900\n",
            "Epoch 33/40\n",
            "40/40 [==============================] - 20s 508ms/step - loss: 8.1000 - accuracy: 0.4975 - val_loss: 6.7696 - val_accuracy: 0.5800\n",
            "Epoch 34/40\n",
            "40/40 [==============================] - 20s 499ms/step - loss: 8.1396 - accuracy: 0.4950 - val_loss: 8.2202 - val_accuracy: 0.4900\n",
            "Epoch 35/40\n",
            "40/40 [==============================] - 20s 511ms/step - loss: 7.7367 - accuracy: 0.5200 - val_loss: 8.8650 - val_accuracy: 0.4500\n",
            "Epoch 36/40\n",
            "40/40 [==============================] - 20s 508ms/step - loss: 8.0181 - accuracy: 0.5025 - val_loss: 8.3814 - val_accuracy: 0.4800\n",
            "Epoch 37/40\n",
            "40/40 [==============================] - 20s 498ms/step - loss: 7.6158 - accuracy: 0.5275 - val_loss: 7.8979 - val_accuracy: 0.5100\n",
            "Epoch 38/40\n",
            "40/40 [==============================] - 20s 505ms/step - loss: 7.9772 - accuracy: 0.5051 - val_loss: 8.5426 - val_accuracy: 0.4700\n",
            "Epoch 39/40\n",
            "40/40 [==============================] - 20s 501ms/step - loss: 8.3045 - accuracy: 0.4848 - val_loss: 7.4143 - val_accuracy: 0.5400\n",
            "Epoch 40/40\n",
            "40/40 [==============================] - 20s 499ms/step - loss: 8.0993 - accuracy: 0.4975 - val_loss: 8.2202 - val_accuracy: 0.4900\n"
          ],
          "name": "stdout"
        },
        {
          "output_type": "execute_result",
          "data": {
            "text/plain": [
              "<tensorflow.python.keras.callbacks.History at 0x7f2f174b7240>"
            ]
          },
          "metadata": {
            "tags": []
          },
          "execution_count": 38
        }
      ]
    },
    {
      "cell_type": "code",
      "metadata": {
        "id": "3_u04WCI79iL",
        "colab_type": "code",
        "colab": {
          "base_uri": "https://localhost:8080/",
          "height": 34
        },
        "outputId": "fe2bd8f9-5fd6-49a4-e7b6-8a2ffa1b1f5a"
      },
      "source": [
        "#testing the model\n",
        "pred= image.load_img('/content/drive/My Drive/data/data/test/pm2.jpg', target_size=(150,150))\n",
        "pred=image.img_to_array(pred)\n",
        "pred= np.expand_dims(pred, axis=0)\n",
        "result= model.predict(pred)\n",
        "print(result)"
      ],
      "execution_count": 39,
      "outputs": [
        {
          "output_type": "stream",
          "text": [
            "[[0. 1.]]\n"
          ],
          "name": "stdout"
        }
      ]
    },
    {
      "cell_type": "code",
      "metadata": {
        "id": "aXc4HAis8GtN",
        "colab_type": "code",
        "colab": {
          "base_uri": "https://localhost:8080/",
          "height": 34
        },
        "outputId": "d85b698a-9f4b-45ff-c288-579a263db86d"
      },
      "source": [
        "if result[0][0]==1:\n",
        "    answer='Apple'\n",
        "else:\n",
        "    answer='Pomegranate'\n",
        "print(\"The fruit in the image is\",answer)"
      ],
      "execution_count": 40,
      "outputs": [
        {
          "output_type": "stream",
          "text": [
            "The fruit in the image is Pomegranate\n"
          ],
          "name": "stdout"
        }
      ]
    },
    {
      "cell_type": "code",
      "metadata": {
        "id": "aZLXJ2mXnRgI",
        "colab_type": "code",
        "colab": {}
      },
      "source": [
        ""
      ],
      "execution_count": null,
      "outputs": []
    }
  ]
}